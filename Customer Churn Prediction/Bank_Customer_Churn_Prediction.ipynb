{
  "nbformat": 4,
  "nbformat_minor": 0,
  "metadata": {
    "colab": {
      "provenance": []
    },
    "kernelspec": {
      "name": "python3",
      "display_name": "Python 3"
    },
    "language_info": {
      "name": "python"
    }
  },
  "cells": [
    {
      "cell_type": "code",
      "execution_count": 1,
      "metadata": {
        "id": "hJUC3GnAlx7R"
      },
      "outputs": [],
      "source": [
        "import pandas as pd\n",
        "import matplotlib.pyplot as plt\n",
        "import numpy as np"
      ]
    },
    {
      "cell_type": "code",
      "source": [
        "# reading data\n",
        "data =pd.read_csv('/content/Churn_Modelling.csv')\n",
        "#printing first 5 rows\n",
        "data.head()"
      ],
      "metadata": {
        "colab": {
          "base_uri": "https://localhost:8080/",
          "height": 226
        },
        "id": "3nQwy66al7CJ",
        "outputId": "6c1901a4-dbae-4fae-8d82-b888ca8bbce0"
      },
      "execution_count": 2,
      "outputs": [
        {
          "output_type": "execute_result",
          "data": {
            "text/plain": [
              "   RowNumber  CustomerId   Surname  CreditScore Geography  Gender  Age  \\\n",
              "0          1    15634602  Hargrave          619    France  Female   42   \n",
              "1          2    15647311      Hill          608     Spain  Female   41   \n",
              "2          3    15619304      Onio          502    France  Female   42   \n",
              "3          4    15701354      Boni          699    France  Female   39   \n",
              "4          5    15737888  Mitchell          850     Spain  Female   43   \n",
              "\n",
              "   Tenure    Balance  NumOfProducts  HasCrCard  IsActiveMember  \\\n",
              "0       2       0.00              1          1               1   \n",
              "1       1   83807.86              1          0               1   \n",
              "2       8  159660.80              3          1               0   \n",
              "3       1       0.00              2          0               0   \n",
              "4       2  125510.82              1          1               1   \n",
              "\n",
              "   EstimatedSalary  Exited  \n",
              "0        101348.88       1  \n",
              "1        112542.58       0  \n",
              "2        113931.57       1  \n",
              "3         93826.63       0  \n",
              "4         79084.10       0  "
            ],
            "text/html": [
              "\n",
              "  <div id=\"df-e69cae0d-8294-4ed5-b288-e9a020551859\" class=\"colab-df-container\">\n",
              "    <div>\n",
              "<style scoped>\n",
              "    .dataframe tbody tr th:only-of-type {\n",
              "        vertical-align: middle;\n",
              "    }\n",
              "\n",
              "    .dataframe tbody tr th {\n",
              "        vertical-align: top;\n",
              "    }\n",
              "\n",
              "    .dataframe thead th {\n",
              "        text-align: right;\n",
              "    }\n",
              "</style>\n",
              "<table border=\"1\" class=\"dataframe\">\n",
              "  <thead>\n",
              "    <tr style=\"text-align: right;\">\n",
              "      <th></th>\n",
              "      <th>RowNumber</th>\n",
              "      <th>CustomerId</th>\n",
              "      <th>Surname</th>\n",
              "      <th>CreditScore</th>\n",
              "      <th>Geography</th>\n",
              "      <th>Gender</th>\n",
              "      <th>Age</th>\n",
              "      <th>Tenure</th>\n",
              "      <th>Balance</th>\n",
              "      <th>NumOfProducts</th>\n",
              "      <th>HasCrCard</th>\n",
              "      <th>IsActiveMember</th>\n",
              "      <th>EstimatedSalary</th>\n",
              "      <th>Exited</th>\n",
              "    </tr>\n",
              "  </thead>\n",
              "  <tbody>\n",
              "    <tr>\n",
              "      <th>0</th>\n",
              "      <td>1</td>\n",
              "      <td>15634602</td>\n",
              "      <td>Hargrave</td>\n",
              "      <td>619</td>\n",
              "      <td>France</td>\n",
              "      <td>Female</td>\n",
              "      <td>42</td>\n",
              "      <td>2</td>\n",
              "      <td>0.00</td>\n",
              "      <td>1</td>\n",
              "      <td>1</td>\n",
              "      <td>1</td>\n",
              "      <td>101348.88</td>\n",
              "      <td>1</td>\n",
              "    </tr>\n",
              "    <tr>\n",
              "      <th>1</th>\n",
              "      <td>2</td>\n",
              "      <td>15647311</td>\n",
              "      <td>Hill</td>\n",
              "      <td>608</td>\n",
              "      <td>Spain</td>\n",
              "      <td>Female</td>\n",
              "      <td>41</td>\n",
              "      <td>1</td>\n",
              "      <td>83807.86</td>\n",
              "      <td>1</td>\n",
              "      <td>0</td>\n",
              "      <td>1</td>\n",
              "      <td>112542.58</td>\n",
              "      <td>0</td>\n",
              "    </tr>\n",
              "    <tr>\n",
              "      <th>2</th>\n",
              "      <td>3</td>\n",
              "      <td>15619304</td>\n",
              "      <td>Onio</td>\n",
              "      <td>502</td>\n",
              "      <td>France</td>\n",
              "      <td>Female</td>\n",
              "      <td>42</td>\n",
              "      <td>8</td>\n",
              "      <td>159660.80</td>\n",
              "      <td>3</td>\n",
              "      <td>1</td>\n",
              "      <td>0</td>\n",
              "      <td>113931.57</td>\n",
              "      <td>1</td>\n",
              "    </tr>\n",
              "    <tr>\n",
              "      <th>3</th>\n",
              "      <td>4</td>\n",
              "      <td>15701354</td>\n",
              "      <td>Boni</td>\n",
              "      <td>699</td>\n",
              "      <td>France</td>\n",
              "      <td>Female</td>\n",
              "      <td>39</td>\n",
              "      <td>1</td>\n",
              "      <td>0.00</td>\n",
              "      <td>2</td>\n",
              "      <td>0</td>\n",
              "      <td>0</td>\n",
              "      <td>93826.63</td>\n",
              "      <td>0</td>\n",
              "    </tr>\n",
              "    <tr>\n",
              "      <th>4</th>\n",
              "      <td>5</td>\n",
              "      <td>15737888</td>\n",
              "      <td>Mitchell</td>\n",
              "      <td>850</td>\n",
              "      <td>Spain</td>\n",
              "      <td>Female</td>\n",
              "      <td>43</td>\n",
              "      <td>2</td>\n",
              "      <td>125510.82</td>\n",
              "      <td>1</td>\n",
              "      <td>1</td>\n",
              "      <td>1</td>\n",
              "      <td>79084.10</td>\n",
              "      <td>0</td>\n",
              "    </tr>\n",
              "  </tbody>\n",
              "</table>\n",
              "</div>\n",
              "    <div class=\"colab-df-buttons\">\n",
              "\n",
              "  <div class=\"colab-df-container\">\n",
              "    <button class=\"colab-df-convert\" onclick=\"convertToInteractive('df-e69cae0d-8294-4ed5-b288-e9a020551859')\"\n",
              "            title=\"Convert this dataframe to an interactive table.\"\n",
              "            style=\"display:none;\">\n",
              "\n",
              "  <svg xmlns=\"http://www.w3.org/2000/svg\" height=\"24px\" viewBox=\"0 -960 960 960\">\n",
              "    <path d=\"M120-120v-720h720v720H120Zm60-500h600v-160H180v160Zm220 220h160v-160H400v160Zm0 220h160v-160H400v160ZM180-400h160v-160H180v160Zm440 0h160v-160H620v160ZM180-180h160v-160H180v160Zm440 0h160v-160H620v160Z\"/>\n",
              "  </svg>\n",
              "    </button>\n",
              "\n",
              "  <style>\n",
              "    .colab-df-container {\n",
              "      display:flex;\n",
              "      gap: 12px;\n",
              "    }\n",
              "\n",
              "    .colab-df-convert {\n",
              "      background-color: #E8F0FE;\n",
              "      border: none;\n",
              "      border-radius: 50%;\n",
              "      cursor: pointer;\n",
              "      display: none;\n",
              "      fill: #1967D2;\n",
              "      height: 32px;\n",
              "      padding: 0 0 0 0;\n",
              "      width: 32px;\n",
              "    }\n",
              "\n",
              "    .colab-df-convert:hover {\n",
              "      background-color: #E2EBFA;\n",
              "      box-shadow: 0px 1px 2px rgba(60, 64, 67, 0.3), 0px 1px 3px 1px rgba(60, 64, 67, 0.15);\n",
              "      fill: #174EA6;\n",
              "    }\n",
              "\n",
              "    .colab-df-buttons div {\n",
              "      margin-bottom: 4px;\n",
              "    }\n",
              "\n",
              "    [theme=dark] .colab-df-convert {\n",
              "      background-color: #3B4455;\n",
              "      fill: #D2E3FC;\n",
              "    }\n",
              "\n",
              "    [theme=dark] .colab-df-convert:hover {\n",
              "      background-color: #434B5C;\n",
              "      box-shadow: 0px 1px 3px 1px rgba(0, 0, 0, 0.15);\n",
              "      filter: drop-shadow(0px 1px 2px rgba(0, 0, 0, 0.3));\n",
              "      fill: #FFFFFF;\n",
              "    }\n",
              "  </style>\n",
              "\n",
              "    <script>\n",
              "      const buttonEl =\n",
              "        document.querySelector('#df-e69cae0d-8294-4ed5-b288-e9a020551859 button.colab-df-convert');\n",
              "      buttonEl.style.display =\n",
              "        google.colab.kernel.accessAllowed ? 'block' : 'none';\n",
              "\n",
              "      async function convertToInteractive(key) {\n",
              "        const element = document.querySelector('#df-e69cae0d-8294-4ed5-b288-e9a020551859');\n",
              "        const dataTable =\n",
              "          await google.colab.kernel.invokeFunction('convertToInteractive',\n",
              "                                                    [key], {});\n",
              "        if (!dataTable) return;\n",
              "\n",
              "        const docLinkHtml = 'Like what you see? Visit the ' +\n",
              "          '<a target=\"_blank\" href=https://colab.research.google.com/notebooks/data_table.ipynb>data table notebook</a>'\n",
              "          + ' to learn more about interactive tables.';\n",
              "        element.innerHTML = '';\n",
              "        dataTable['output_type'] = 'display_data';\n",
              "        await google.colab.output.renderOutput(dataTable, element);\n",
              "        const docLink = document.createElement('div');\n",
              "        docLink.innerHTML = docLinkHtml;\n",
              "        element.appendChild(docLink);\n",
              "      }\n",
              "    </script>\n",
              "  </div>\n",
              "\n",
              "\n",
              "<div id=\"df-dd8c1e05-be5e-462a-9847-24937b276407\">\n",
              "  <button class=\"colab-df-quickchart\" onclick=\"quickchart('df-dd8c1e05-be5e-462a-9847-24937b276407')\"\n",
              "            title=\"Suggest charts\"\n",
              "            style=\"display:none;\">\n",
              "\n",
              "<svg xmlns=\"http://www.w3.org/2000/svg\" height=\"24px\"viewBox=\"0 0 24 24\"\n",
              "     width=\"24px\">\n",
              "    <g>\n",
              "        <path d=\"M19 3H5c-1.1 0-2 .9-2 2v14c0 1.1.9 2 2 2h14c1.1 0 2-.9 2-2V5c0-1.1-.9-2-2-2zM9 17H7v-7h2v7zm4 0h-2V7h2v10zm4 0h-2v-4h2v4z\"/>\n",
              "    </g>\n",
              "</svg>\n",
              "  </button>\n",
              "\n",
              "<style>\n",
              "  .colab-df-quickchart {\n",
              "      --bg-color: #E8F0FE;\n",
              "      --fill-color: #1967D2;\n",
              "      --hover-bg-color: #E2EBFA;\n",
              "      --hover-fill-color: #174EA6;\n",
              "      --disabled-fill-color: #AAA;\n",
              "      --disabled-bg-color: #DDD;\n",
              "  }\n",
              "\n",
              "  [theme=dark] .colab-df-quickchart {\n",
              "      --bg-color: #3B4455;\n",
              "      --fill-color: #D2E3FC;\n",
              "      --hover-bg-color: #434B5C;\n",
              "      --hover-fill-color: #FFFFFF;\n",
              "      --disabled-bg-color: #3B4455;\n",
              "      --disabled-fill-color: #666;\n",
              "  }\n",
              "\n",
              "  .colab-df-quickchart {\n",
              "    background-color: var(--bg-color);\n",
              "    border: none;\n",
              "    border-radius: 50%;\n",
              "    cursor: pointer;\n",
              "    display: none;\n",
              "    fill: var(--fill-color);\n",
              "    height: 32px;\n",
              "    padding: 0;\n",
              "    width: 32px;\n",
              "  }\n",
              "\n",
              "  .colab-df-quickchart:hover {\n",
              "    background-color: var(--hover-bg-color);\n",
              "    box-shadow: 0 1px 2px rgba(60, 64, 67, 0.3), 0 1px 3px 1px rgba(60, 64, 67, 0.15);\n",
              "    fill: var(--button-hover-fill-color);\n",
              "  }\n",
              "\n",
              "  .colab-df-quickchart-complete:disabled,\n",
              "  .colab-df-quickchart-complete:disabled:hover {\n",
              "    background-color: var(--disabled-bg-color);\n",
              "    fill: var(--disabled-fill-color);\n",
              "    box-shadow: none;\n",
              "  }\n",
              "\n",
              "  .colab-df-spinner {\n",
              "    border: 2px solid var(--fill-color);\n",
              "    border-color: transparent;\n",
              "    border-bottom-color: var(--fill-color);\n",
              "    animation:\n",
              "      spin 1s steps(1) infinite;\n",
              "  }\n",
              "\n",
              "  @keyframes spin {\n",
              "    0% {\n",
              "      border-color: transparent;\n",
              "      border-bottom-color: var(--fill-color);\n",
              "      border-left-color: var(--fill-color);\n",
              "    }\n",
              "    20% {\n",
              "      border-color: transparent;\n",
              "      border-left-color: var(--fill-color);\n",
              "      border-top-color: var(--fill-color);\n",
              "    }\n",
              "    30% {\n",
              "      border-color: transparent;\n",
              "      border-left-color: var(--fill-color);\n",
              "      border-top-color: var(--fill-color);\n",
              "      border-right-color: var(--fill-color);\n",
              "    }\n",
              "    40% {\n",
              "      border-color: transparent;\n",
              "      border-right-color: var(--fill-color);\n",
              "      border-top-color: var(--fill-color);\n",
              "    }\n",
              "    60% {\n",
              "      border-color: transparent;\n",
              "      border-right-color: var(--fill-color);\n",
              "    }\n",
              "    80% {\n",
              "      border-color: transparent;\n",
              "      border-right-color: var(--fill-color);\n",
              "      border-bottom-color: var(--fill-color);\n",
              "    }\n",
              "    90% {\n",
              "      border-color: transparent;\n",
              "      border-bottom-color: var(--fill-color);\n",
              "    }\n",
              "  }\n",
              "</style>\n",
              "\n",
              "  <script>\n",
              "    async function quickchart(key) {\n",
              "      const quickchartButtonEl =\n",
              "        document.querySelector('#' + key + ' button');\n",
              "      quickchartButtonEl.disabled = true;  // To prevent multiple clicks.\n",
              "      quickchartButtonEl.classList.add('colab-df-spinner');\n",
              "      try {\n",
              "        const charts = await google.colab.kernel.invokeFunction(\n",
              "            'suggestCharts', [key], {});\n",
              "      } catch (error) {\n",
              "        console.error('Error during call to suggestCharts:', error);\n",
              "      }\n",
              "      quickchartButtonEl.classList.remove('colab-df-spinner');\n",
              "      quickchartButtonEl.classList.add('colab-df-quickchart-complete');\n",
              "    }\n",
              "    (() => {\n",
              "      let quickchartButtonEl =\n",
              "        document.querySelector('#df-dd8c1e05-be5e-462a-9847-24937b276407 button');\n",
              "      quickchartButtonEl.style.display =\n",
              "        google.colab.kernel.accessAllowed ? 'block' : 'none';\n",
              "    })();\n",
              "  </script>\n",
              "</div>\n",
              "\n",
              "    </div>\n",
              "  </div>\n"
            ],
            "application/vnd.google.colaboratory.intrinsic+json": {
              "type": "dataframe",
              "variable_name": "data",
              "summary": "{\n  \"name\": \"data\",\n  \"rows\": 10000,\n  \"fields\": [\n    {\n      \"column\": \"RowNumber\",\n      \"properties\": {\n        \"dtype\": \"number\",\n        \"std\": 2886,\n        \"min\": 1,\n        \"max\": 10000,\n        \"num_unique_values\": 10000,\n        \"samples\": [\n          6253,\n          4685,\n          1732\n        ],\n        \"semantic_type\": \"\",\n        \"description\": \"\"\n      }\n    },\n    {\n      \"column\": \"CustomerId\",\n      \"properties\": {\n        \"dtype\": \"number\",\n        \"std\": 71936,\n        \"min\": 15565701,\n        \"max\": 15815690,\n        \"num_unique_values\": 10000,\n        \"samples\": [\n          15687492,\n          15736963,\n          15721730\n        ],\n        \"semantic_type\": \"\",\n        \"description\": \"\"\n      }\n    },\n    {\n      \"column\": \"Surname\",\n      \"properties\": {\n        \"dtype\": \"category\",\n        \"num_unique_values\": 2932,\n        \"samples\": [\n          \"McGuirk\",\n          \"Torkelson\",\n          \"Rapuluchukwu\"\n        ],\n        \"semantic_type\": \"\",\n        \"description\": \"\"\n      }\n    },\n    {\n      \"column\": \"CreditScore\",\n      \"properties\": {\n        \"dtype\": \"number\",\n        \"std\": 96,\n        \"min\": 350,\n        \"max\": 850,\n        \"num_unique_values\": 460,\n        \"samples\": [\n          754,\n          533,\n          744\n        ],\n        \"semantic_type\": \"\",\n        \"description\": \"\"\n      }\n    },\n    {\n      \"column\": \"Geography\",\n      \"properties\": {\n        \"dtype\": \"category\",\n        \"num_unique_values\": 3,\n        \"samples\": [\n          \"France\",\n          \"Spain\",\n          \"Germany\"\n        ],\n        \"semantic_type\": \"\",\n        \"description\": \"\"\n      }\n    },\n    {\n      \"column\": \"Gender\",\n      \"properties\": {\n        \"dtype\": \"category\",\n        \"num_unique_values\": 2,\n        \"samples\": [\n          \"Male\",\n          \"Female\"\n        ],\n        \"semantic_type\": \"\",\n        \"description\": \"\"\n      }\n    },\n    {\n      \"column\": \"Age\",\n      \"properties\": {\n        \"dtype\": \"number\",\n        \"std\": 10,\n        \"min\": 18,\n        \"max\": 92,\n        \"num_unique_values\": 70,\n        \"samples\": [\n          61,\n          42\n        ],\n        \"semantic_type\": \"\",\n        \"description\": \"\"\n      }\n    },\n    {\n      \"column\": \"Tenure\",\n      \"properties\": {\n        \"dtype\": \"number\",\n        \"std\": 2,\n        \"min\": 0,\n        \"max\": 10,\n        \"num_unique_values\": 11,\n        \"samples\": [\n          6,\n          2\n        ],\n        \"semantic_type\": \"\",\n        \"description\": \"\"\n      }\n    },\n    {\n      \"column\": \"Balance\",\n      \"properties\": {\n        \"dtype\": \"number\",\n        \"std\": 62397.405202385955,\n        \"min\": 0.0,\n        \"max\": 250898.09,\n        \"num_unique_values\": 6382,\n        \"samples\": [\n          117707.18,\n          133050.97\n        ],\n        \"semantic_type\": \"\",\n        \"description\": \"\"\n      }\n    },\n    {\n      \"column\": \"NumOfProducts\",\n      \"properties\": {\n        \"dtype\": \"number\",\n        \"std\": 0,\n        \"min\": 1,\n        \"max\": 4,\n        \"num_unique_values\": 4,\n        \"samples\": [\n          3,\n          4\n        ],\n        \"semantic_type\": \"\",\n        \"description\": \"\"\n      }\n    },\n    {\n      \"column\": \"HasCrCard\",\n      \"properties\": {\n        \"dtype\": \"number\",\n        \"std\": 0,\n        \"min\": 0,\n        \"max\": 1,\n        \"num_unique_values\": 2,\n        \"samples\": [\n          0,\n          1\n        ],\n        \"semantic_type\": \"\",\n        \"description\": \"\"\n      }\n    },\n    {\n      \"column\": \"IsActiveMember\",\n      \"properties\": {\n        \"dtype\": \"number\",\n        \"std\": 0,\n        \"min\": 0,\n        \"max\": 1,\n        \"num_unique_values\": 2,\n        \"samples\": [\n          0,\n          1\n        ],\n        \"semantic_type\": \"\",\n        \"description\": \"\"\n      }\n    },\n    {\n      \"column\": \"EstimatedSalary\",\n      \"properties\": {\n        \"dtype\": \"number\",\n        \"std\": 57510.49281769816,\n        \"min\": 11.58,\n        \"max\": 199992.48,\n        \"num_unique_values\": 9999,\n        \"samples\": [\n          100809.99,\n          95273.73\n        ],\n        \"semantic_type\": \"\",\n        \"description\": \"\"\n      }\n    },\n    {\n      \"column\": \"Exited\",\n      \"properties\": {\n        \"dtype\": \"number\",\n        \"std\": 0,\n        \"min\": 0,\n        \"max\": 1,\n        \"num_unique_values\": 2,\n        \"samples\": [\n          0,\n          1\n        ],\n        \"semantic_type\": \"\",\n        \"description\": \"\"\n      }\n    }\n  ]\n}"
            }
          },
          "metadata": {},
          "execution_count": 2
        }
      ]
    },
    {
      "cell_type": "code",
      "source": [
        "data.drop(columns = ['RowNumber','CustomerId','Surname'], inplace= True )"
      ],
      "metadata": {
        "id": "qJR1LnlDl6_u"
      },
      "execution_count": 5,
      "outputs": []
    },
    {
      "cell_type": "code",
      "source": [
        "#exploring the columns\n",
        "data.info()"
      ],
      "metadata": {
        "colab": {
          "base_uri": "https://localhost:8080/"
        },
        "id": "7gO6XqgHl69Z",
        "outputId": "2b7dd2fe-088a-4ebb-975c-ce848ee6c3e8"
      },
      "execution_count": 7,
      "outputs": [
        {
          "output_type": "stream",
          "name": "stdout",
          "text": [
            "<class 'pandas.core.frame.DataFrame'>\n",
            "RangeIndex: 10000 entries, 0 to 9999\n",
            "Data columns (total 11 columns):\n",
            " #   Column           Non-Null Count  Dtype  \n",
            "---  ------           --------------  -----  \n",
            " 0   CreditScore      10000 non-null  int64  \n",
            " 1   Geography        10000 non-null  object \n",
            " 2   Gender           10000 non-null  object \n",
            " 3   Age              10000 non-null  int64  \n",
            " 4   Tenure           10000 non-null  int64  \n",
            " 5   Balance          10000 non-null  float64\n",
            " 6   NumOfProducts    10000 non-null  int64  \n",
            " 7   HasCrCard        10000 non-null  int64  \n",
            " 8   IsActiveMember   10000 non-null  int64  \n",
            " 9   EstimatedSalary  10000 non-null  float64\n",
            " 10  Exited           10000 non-null  int64  \n",
            "dtypes: float64(2), int64(7), object(2)\n",
            "memory usage: 859.5+ KB\n"
          ]
        }
      ]
    },
    {
      "cell_type": "code",
      "source": [
        "data.isnull().sum()"
      ],
      "metadata": {
        "colab": {
          "base_uri": "https://localhost:8080/"
        },
        "id": "kduqzJC_l67R",
        "outputId": "8c31ecb6-62b7-4870-cf4c-480c7b982bb1"
      },
      "execution_count": 8,
      "outputs": [
        {
          "output_type": "execute_result",
          "data": {
            "text/plain": [
              "CreditScore        0\n",
              "Geography          0\n",
              "Gender             0\n",
              "Age                0\n",
              "Tenure             0\n",
              "Balance            0\n",
              "NumOfProducts      0\n",
              "HasCrCard          0\n",
              "IsActiveMember     0\n",
              "EstimatedSalary    0\n",
              "Exited             0\n",
              "dtype: int64"
            ]
          },
          "metadata": {},
          "execution_count": 8
        }
      ]
    },
    {
      "cell_type": "code",
      "source": [
        "#explore number of rows & features\n",
        "print('number of rows = {}'.format(data.shape[0]))\n",
        "print('number of cols or features  = {}'.format(data.shape[1]))"
      ],
      "metadata": {
        "colab": {
          "base_uri": "https://localhost:8080/"
        },
        "id": "Rqk2tQFKl65B",
        "outputId": "373072b9-8199-4079-9584-4747c0374852"
      },
      "execution_count": 6,
      "outputs": [
        {
          "output_type": "stream",
          "name": "stdout",
          "text": [
            "number of rows = 10000\n",
            "number of cols or features  = 11\n"
          ]
        }
      ]
    },
    {
      "cell_type": "code",
      "source": [
        "plt.figure(figsize=(10, 6))\n",
        "data['Geography'].value_counts().plot(kind='bar')\n",
        "plt.xlabel('Counrties Names')\n",
        "plt.ylabel('Numbers of Customers')\n",
        "plt.title(\"Comparsion betweeen Countries and Customers\")"
      ],
      "metadata": {
        "colab": {
          "base_uri": "https://localhost:8080/",
          "height": 631
        },
        "id": "LJVmijJ1l62h",
        "outputId": "b9a56c5f-890c-4a03-efe2-b39b2122dbcd"
      },
      "execution_count": 9,
      "outputs": [
        {
          "output_type": "execute_result",
          "data": {
            "text/plain": [
              "Text(0.5, 1.0, 'Comparsion betweeen Countries and Customers')"
            ]
          },
          "metadata": {},
          "execution_count": 9
        },
        {
          "output_type": "display_data",
          "data": {
            "text/plain": [
              "<Figure size 1000x600 with 1 Axes>"
            ],
            "image/png": "[encoded data removed]"
          },
          "metadata": {}
        }
      ]
    },
    {
      "cell_type": "code",
      "source": [
        "data= pd.get_dummies(data, columns= ['Geography', 'Gender'], drop_first=True)"
      ],
      "metadata": {
        "id": "823d_yC8l60D"
      },
      "execution_count": 10,
      "outputs": []
    },
    {
      "cell_type": "code",
      "source": [
        "X=data.drop(columns=['Exited'])\n",
        "y=data['Exited']"
      ],
      "metadata": {
        "id": "xCWq7tXamEyx"
      },
      "execution_count": 11,
      "outputs": []
    },
    {
      "cell_type": "markdown",
      "source": [
        "Spiliting dataset int train and test"
      ],
      "metadata": {
        "id": "afoNpJlxmHaS"
      }
    },
    {
      "cell_type": "code",
      "source": [
        "from sklearn.model_selection import train_test_split\n",
        "X_train, X_test, y_train, y_test = train_test_split(X,y, test_size= 0.25, random_state=3)"
      ],
      "metadata": {
        "id": "2aIjUkQamEwR"
      },
      "execution_count": 12,
      "outputs": []
    },
    {
      "cell_type": "code",
      "source": [
        "from sklearn.preprocessing import MinMaxScaler,StandardScaler\n",
        "sc=StandardScaler()\n",
        "X_train=sc.fit_transform(X_train)\n",
        "X_test=sc.transform(X_test)"
      ],
      "metadata": {
        "id": "ELsumjpcmEuD"
      },
      "execution_count": 13,
      "outputs": []
    },
    {
      "cell_type": "code",
      "source": [
        "X_train.shape"
      ],
      "metadata": {
        "colab": {
          "base_uri": "https://localhost:8080/"
        },
        "id": "i4VkYjWUmErj",
        "outputId": "72b8c124-266e-43a5-e4a7-75e401a71748"
      },
      "execution_count": 14,
      "outputs": [
        {
          "output_type": "execute_result",
          "data": {
            "text/plain": [
              "(7500, 11)"
            ]
          },
          "metadata": {},
          "execution_count": 14
        }
      ]
    },
    {
      "cell_type": "markdown",
      "source": [
        "Build a model (ANN) in tensorflow/keras"
      ],
      "metadata": {
        "id": "9TjX7YyemMAZ"
      }
    },
    {
      "cell_type": "code",
      "source": [
        "import tensorflow as tf\n",
        "from tensorflow import keras\n",
        "model = keras.Sequential([\n",
        "    keras.layers.Dense(6, activation='relu',input_dim=11),\n",
        "    keras.layers.Dense(6, activation='relu'),\n",
        "    keras.layers.Dense(1, activation='sigmoid')\n",
        "])\n",
        "\n",
        "# opt = keras.optimizers.Adam(learning_rate=0.01)\n",
        "\n",
        "model.compile(optimizer='adam',\n",
        "              loss='binary_crossentropy',\n",
        "              metrics=['accuracy'])\n",
        "\n",
        "model.fit(X_train, y_train, epochs=100)"
      ],
      "metadata": {
        "colab": {
          "base_uri": "https://localhost:8080/"
        },
        "id": "Ei7y_ddFmEpJ",
        "outputId": "804e0c29-1316-4287-f958-639fc53e49ca"
      },
      "execution_count": 15,
      "outputs": [
        {
          "output_type": "stream",
          "name": "stdout",
          "text": [
            "Epoch 1/100\n",
            "235/235 [==============================] - 1s 2ms/step - loss: 0.5416 - accuracy: 0.7660\n",
            "Epoch 2/100\n",
            "235/235 [==============================] - 0s 2ms/step - loss: 0.4611 - accuracy: 0.7975\n",
            "Epoch 3/100\n",
            "235/235 [==============================] - 1s 2ms/step - loss: 0.4456 - accuracy: 0.7975\n",
            "Epoch 4/100\n",
            "235/235 [==============================] - 0s 2ms/step - loss: 0.4372 - accuracy: 0.7975\n",
            "Epoch 5/100\n",
            "235/235 [==============================] - 1s 2ms/step - loss: 0.4315 - accuracy: 0.7976\n",
            "Epoch 6/100\n",
            "235/235 [==============================] - 0s 2ms/step - loss: 0.4264 - accuracy: 0.7996\n",
            "Epoch 7/100\n",
            "235/235 [==============================] - 1s 2ms/step - loss: 0.4201 - accuracy: 0.8029\n",
            "Epoch 8/100\n",
            "235/235 [==============================] - 0s 2ms/step - loss: 0.4117 - accuracy: 0.8088\n",
            "Epoch 9/100\n",
            "235/235 [==============================] - 1s 3ms/step - loss: 0.4019 - accuracy: 0.8125\n",
            "Epoch 10/100\n",
            "235/235 [==============================] - 1s 3ms/step - loss: 0.3920 - accuracy: 0.8160\n",
            "Epoch 11/100\n",
            "235/235 [==============================] - 1s 3ms/step - loss: 0.3832 - accuracy: 0.8189\n",
            "Epoch 12/100\n",
            "235/235 [==============================] - 1s 3ms/step - loss: 0.3753 - accuracy: 0.8248\n",
            "Epoch 13/100\n",
            "235/235 [==============================] - 1s 3ms/step - loss: 0.3686 - accuracy: 0.8429\n",
            "Epoch 14/100\n",
            "235/235 [==============================] - 0s 2ms/step - loss: 0.3632 - accuracy: 0.8496\n",
            "Epoch 15/100\n",
            "235/235 [==============================] - 1s 2ms/step - loss: 0.3588 - accuracy: 0.8521\n",
            "Epoch 16/100\n",
            "235/235 [==============================] - 1s 2ms/step - loss: 0.3554 - accuracy: 0.8557\n",
            "Epoch 17/100\n",
            "235/235 [==============================] - 0s 2ms/step - loss: 0.3525 - accuracy: 0.8581\n",
            "Epoch 18/100\n",
            "235/235 [==============================] - 0s 2ms/step - loss: 0.3503 - accuracy: 0.8588\n",
            "Epoch 19/100\n",
            "235/235 [==============================] - 0s 2ms/step - loss: 0.3485 - accuracy: 0.8581\n",
            "Epoch 20/100\n",
            "235/235 [==============================] - 0s 2ms/step - loss: 0.3476 - accuracy: 0.8589\n",
            "Epoch 21/100\n",
            "235/235 [==============================] - 0s 2ms/step - loss: 0.3459 - accuracy: 0.8599\n",
            "Epoch 22/100\n",
            "235/235 [==============================] - 0s 2ms/step - loss: 0.3450 - accuracy: 0.8603\n",
            "Epoch 23/100\n",
            "235/235 [==============================] - 1s 2ms/step - loss: 0.3441 - accuracy: 0.8591\n",
            "Epoch 24/100\n",
            "235/235 [==============================] - 0s 2ms/step - loss: 0.3431 - accuracy: 0.8599\n",
            "Epoch 25/100\n",
            "235/235 [==============================] - 1s 2ms/step - loss: 0.3423 - accuracy: 0.8597\n",
            "Epoch 26/100\n",
            "235/235 [==============================] - 0s 2ms/step - loss: 0.3417 - accuracy: 0.8608\n",
            "Epoch 27/100\n",
            "235/235 [==============================] - 1s 2ms/step - loss: 0.3412 - accuracy: 0.8601\n",
            "Epoch 28/100\n",
            "235/235 [==============================] - 0s 2ms/step - loss: 0.3404 - accuracy: 0.8604\n",
            "Epoch 29/100\n",
            "235/235 [==============================] - 0s 2ms/step - loss: 0.3396 - accuracy: 0.8603\n",
            "Epoch 30/100\n",
            "235/235 [==============================] - 0s 2ms/step - loss: 0.3391 - accuracy: 0.8603\n",
            "Epoch 31/100\n",
            "235/235 [==============================] - 1s 2ms/step - loss: 0.3385 - accuracy: 0.8611\n",
            "Epoch 32/100\n",
            "235/235 [==============================] - 0s 2ms/step - loss: 0.3378 - accuracy: 0.8611\n",
            "Epoch 33/100\n",
            "235/235 [==============================] - 0s 2ms/step - loss: 0.3374 - accuracy: 0.8607\n",
            "Epoch 34/100\n",
            "235/235 [==============================] - 1s 3ms/step - loss: 0.3366 - accuracy: 0.8612\n",
            "Epoch 35/100\n",
            "235/235 [==============================] - 1s 3ms/step - loss: 0.3358 - accuracy: 0.8612\n",
            "Epoch 36/100\n",
            "235/235 [==============================] - 1s 3ms/step - loss: 0.3358 - accuracy: 0.8624\n",
            "Epoch 37/100\n",
            "235/235 [==============================] - 1s 3ms/step - loss: 0.3351 - accuracy: 0.8624\n",
            "Epoch 38/100\n",
            "235/235 [==============================] - 1s 3ms/step - loss: 0.3343 - accuracy: 0.8629\n",
            "Epoch 39/100\n",
            "235/235 [==============================] - 1s 2ms/step - loss: 0.3343 - accuracy: 0.8633\n",
            "Epoch 40/100\n",
            "235/235 [==============================] - 0s 2ms/step - loss: 0.3336 - accuracy: 0.8636\n",
            "Epoch 41/100\n",
            "235/235 [==============================] - 1s 2ms/step - loss: 0.3333 - accuracy: 0.8641\n",
            "Epoch 42/100\n",
            "235/235 [==============================] - 0s 2ms/step - loss: 0.3329 - accuracy: 0.8639\n",
            "Epoch 43/100\n",
            "235/235 [==============================] - 0s 2ms/step - loss: 0.3321 - accuracy: 0.8653\n",
            "Epoch 44/100\n",
            "235/235 [==============================] - 0s 2ms/step - loss: 0.3319 - accuracy: 0.8649\n",
            "Epoch 45/100\n",
            "235/235 [==============================] - 0s 2ms/step - loss: 0.3313 - accuracy: 0.8660\n",
            "Epoch 46/100\n",
            "235/235 [==============================] - 0s 2ms/step - loss: 0.3312 - accuracy: 0.8660\n",
            "Epoch 47/100\n",
            "235/235 [==============================] - 0s 2ms/step - loss: 0.3306 - accuracy: 0.8673\n",
            "Epoch 48/100\n",
            "235/235 [==============================] - 0s 2ms/step - loss: 0.3303 - accuracy: 0.8653\n",
            "Epoch 49/100\n",
            "235/235 [==============================] - 0s 2ms/step - loss: 0.3300 - accuracy: 0.8669\n",
            "Epoch 50/100\n",
            "235/235 [==============================] - 0s 2ms/step - loss: 0.3297 - accuracy: 0.8660\n",
            "Epoch 51/100\n",
            "235/235 [==============================] - 0s 2ms/step - loss: 0.3294 - accuracy: 0.8660\n",
            "Epoch 52/100\n",
            "235/235 [==============================] - 0s 2ms/step - loss: 0.3288 - accuracy: 0.8671\n",
            "Epoch 53/100\n",
            "235/235 [==============================] - 0s 2ms/step - loss: 0.3283 - accuracy: 0.8679\n",
            "Epoch 54/100\n",
            "235/235 [==============================] - 0s 2ms/step - loss: 0.3280 - accuracy: 0.8663\n",
            "Epoch 55/100\n",
            "235/235 [==============================] - 1s 2ms/step - loss: 0.3280 - accuracy: 0.8664\n",
            "Epoch 56/100\n",
            "235/235 [==============================] - 0s 2ms/step - loss: 0.3277 - accuracy: 0.8677\n",
            "Epoch 57/100\n",
            "235/235 [==============================] - 0s 2ms/step - loss: 0.3279 - accuracy: 0.8673\n",
            "Epoch 58/100\n",
            "235/235 [==============================] - 0s 2ms/step - loss: 0.3274 - accuracy: 0.8672\n",
            "Epoch 59/100\n",
            "235/235 [==============================] - 0s 2ms/step - loss: 0.3271 - accuracy: 0.8671\n",
            "Epoch 60/100\n",
            "235/235 [==============================] - 1s 3ms/step - loss: 0.3270 - accuracy: 0.8667\n",
            "Epoch 61/100\n",
            "235/235 [==============================] - 1s 3ms/step - loss: 0.3271 - accuracy: 0.8672\n",
            "Epoch 62/100\n",
            "235/235 [==============================] - 1s 3ms/step - loss: 0.3263 - accuracy: 0.8680\n",
            "Epoch 63/100\n",
            "235/235 [==============================] - 1s 3ms/step - loss: 0.3265 - accuracy: 0.8665\n",
            "Epoch 64/100\n",
            "235/235 [==============================] - 1s 3ms/step - loss: 0.3265 - accuracy: 0.8681\n",
            "Epoch 65/100\n",
            "235/235 [==============================] - 0s 2ms/step - loss: 0.3262 - accuracy: 0.8689\n",
            "Epoch 66/100\n",
            "235/235 [==============================] - 0s 2ms/step - loss: 0.3263 - accuracy: 0.8669\n",
            "Epoch 67/100\n",
            "235/235 [==============================] - 1s 2ms/step - loss: 0.3258 - accuracy: 0.8673\n",
            "Epoch 68/100\n",
            "235/235 [==============================] - 0s 2ms/step - loss: 0.3257 - accuracy: 0.8671\n",
            "Epoch 69/100\n",
            "235/235 [==============================] - 0s 2ms/step - loss: 0.3254 - accuracy: 0.8663\n",
            "Epoch 70/100\n",
            "235/235 [==============================] - 0s 2ms/step - loss: 0.3255 - accuracy: 0.8667\n",
            "Epoch 71/100\n",
            "235/235 [==============================] - 0s 2ms/step - loss: 0.3256 - accuracy: 0.8667\n",
            "Epoch 72/100\n",
            "235/235 [==============================] - 0s 2ms/step - loss: 0.3253 - accuracy: 0.8669\n",
            "Epoch 73/100\n",
            "235/235 [==============================] - 0s 2ms/step - loss: 0.3249 - accuracy: 0.8672\n",
            "Epoch 74/100\n",
            "235/235 [==============================] - 0s 2ms/step - loss: 0.3256 - accuracy: 0.8665\n",
            "Epoch 75/100\n",
            "235/235 [==============================] - 0s 2ms/step - loss: 0.3251 - accuracy: 0.8657\n",
            "Epoch 76/100\n",
            "235/235 [==============================] - 0s 2ms/step - loss: 0.3250 - accuracy: 0.8665\n",
            "Epoch 77/100\n",
            "235/235 [==============================] - 1s 2ms/step - loss: 0.3251 - accuracy: 0.8660\n",
            "Epoch 78/100\n",
            "235/235 [==============================] - 0s 2ms/step - loss: 0.3247 - accuracy: 0.8680\n",
            "Epoch 79/100\n",
            "235/235 [==============================] - 1s 2ms/step - loss: 0.3246 - accuracy: 0.8663\n",
            "Epoch 80/100\n",
            "235/235 [==============================] - 0s 2ms/step - loss: 0.3247 - accuracy: 0.8665\n",
            "Epoch 81/100\n",
            "235/235 [==============================] - 1s 2ms/step - loss: 0.3249 - accuracy: 0.8655\n",
            "Epoch 82/100\n",
            "235/235 [==============================] - 0s 2ms/step - loss: 0.3245 - accuracy: 0.8672\n",
            "Epoch 83/100\n",
            "235/235 [==============================] - 1s 2ms/step - loss: 0.3247 - accuracy: 0.8659\n",
            "Epoch 84/100\n",
            "235/235 [==============================] - 0s 2ms/step - loss: 0.3244 - accuracy: 0.8648\n",
            "Epoch 85/100\n",
            "235/235 [==============================] - 1s 3ms/step - loss: 0.3240 - accuracy: 0.8677\n",
            "Epoch 86/100\n",
            "235/235 [==============================] - 1s 3ms/step - loss: 0.3244 - accuracy: 0.8672\n",
            "Epoch 87/100\n",
            "235/235 [==============================] - 1s 3ms/step - loss: 0.3241 - accuracy: 0.8684\n",
            "Epoch 88/100\n",
            "235/235 [==============================] - 1s 3ms/step - loss: 0.3242 - accuracy: 0.8671\n",
            "Epoch 89/100\n",
            "235/235 [==============================] - 1s 5ms/step - loss: 0.3239 - accuracy: 0.8665\n",
            "Epoch 90/100\n",
            "235/235 [==============================] - 1s 3ms/step - loss: 0.3240 - accuracy: 0.8660\n",
            "Epoch 91/100\n",
            "235/235 [==============================] - 1s 4ms/step - loss: 0.3238 - accuracy: 0.8683\n",
            "Epoch 92/100\n",
            "235/235 [==============================] - 1s 4ms/step - loss: 0.3238 - accuracy: 0.8677\n",
            "Epoch 93/100\n",
            "235/235 [==============================] - 0s 2ms/step - loss: 0.3241 - accuracy: 0.8675\n",
            "Epoch 94/100\n",
            "235/235 [==============================] - 0s 2ms/step - loss: 0.3239 - accuracy: 0.8675\n",
            "Epoch 95/100\n",
            "235/235 [==============================] - 1s 2ms/step - loss: 0.3237 - accuracy: 0.8672\n",
            "Epoch 96/100\n",
            "235/235 [==============================] - 1s 2ms/step - loss: 0.3238 - accuracy: 0.8671\n",
            "Epoch 97/100\n",
            "235/235 [==============================] - 0s 2ms/step - loss: 0.3236 - accuracy: 0.8679\n",
            "Epoch 98/100\n",
            "235/235 [==============================] - 1s 2ms/step - loss: 0.3237 - accuracy: 0.8677\n",
            "Epoch 99/100\n",
            "235/235 [==============================] - 0s 2ms/step - loss: 0.3232 - accuracy: 0.8685\n",
            "Epoch 100/100\n",
            "235/235 [==============================] - 0s 2ms/step - loss: 0.3235 - accuracy: 0.8668\n"
          ]
        },
        {
          "output_type": "execute_result",
          "data": {
            "text/plain": [
              "<keras.src.callbacks.History at 0x7cbd41644e50>"
            ]
          },
          "metadata": {},
          "execution_count": 15
        }
      ]
    },
    {
      "cell_type": "code",
      "source": [
        "# opt = keras.optimizers.Adam(learning_rate=0.01)\n",
        "\n",
        "model.compile(optimizer='adam',\n",
        "              loss='binary_crossentropy',\n",
        "              metrics=['accuracy'])"
      ],
      "metadata": {
        "id": "rDlonLZFmEmx"
      },
      "execution_count": 16,
      "outputs": []
    },
    {
      "cell_type": "code",
      "source": [
        "history = model.fit(X_train,y_train,batch_size=10,epochs=100,verbose=1,validation_split=0.25)"
      ],
      "metadata": {
        "colab": {
          "base_uri": "https://localhost:8080/"
        },
        "id": "zG2qvUMGmEkR",
        "outputId": "92fc7fc9-a260-4a66-fb9a-b3ca2c05c7f0"
      },
      "execution_count": 17,
      "outputs": [
        {
          "output_type": "stream",
          "name": "stdout",
          "text": [
            "Epoch 1/100\n",
            "563/563 [==============================] - 3s 3ms/step - loss: 0.3241 - accuracy: 0.8668 - val_loss: 0.3294 - val_accuracy: 0.8667\n",
            "Epoch 2/100\n",
            "563/563 [==============================] - 1s 3ms/step - loss: 0.3225 - accuracy: 0.8674 - val_loss: 0.3333 - val_accuracy: 0.8645\n",
            "Epoch 3/100\n",
            "563/563 [==============================] - 2s 3ms/step - loss: 0.3230 - accuracy: 0.8645 - val_loss: 0.3326 - val_accuracy: 0.8624\n",
            "Epoch 4/100\n",
            "563/563 [==============================] - 3s 4ms/step - loss: 0.3220 - accuracy: 0.8651 - val_loss: 0.3337 - val_accuracy: 0.8656\n",
            "Epoch 5/100\n",
            "563/563 [==============================] - 1s 3ms/step - loss: 0.3221 - accuracy: 0.8681 - val_loss: 0.3336 - val_accuracy: 0.8640\n",
            "Epoch 6/100\n",
            "563/563 [==============================] - 1s 3ms/step - loss: 0.3216 - accuracy: 0.8656 - val_loss: 0.3365 - val_accuracy: 0.8619\n",
            "Epoch 7/100\n",
            "563/563 [==============================] - 1s 3ms/step - loss: 0.3220 - accuracy: 0.8660 - val_loss: 0.3337 - val_accuracy: 0.8624\n",
            "Epoch 8/100\n",
            "563/563 [==============================] - 1s 2ms/step - loss: 0.3217 - accuracy: 0.8672 - val_loss: 0.3356 - val_accuracy: 0.8635\n",
            "Epoch 9/100\n",
            "563/563 [==============================] - 1s 2ms/step - loss: 0.3220 - accuracy: 0.8663 - val_loss: 0.3352 - val_accuracy: 0.8640\n",
            "Epoch 10/100\n",
            "563/563 [==============================] - 1s 2ms/step - loss: 0.3219 - accuracy: 0.8690 - val_loss: 0.3345 - val_accuracy: 0.8656\n",
            "Epoch 11/100\n",
            "563/563 [==============================] - 1s 3ms/step - loss: 0.3211 - accuracy: 0.8665 - val_loss: 0.3364 - val_accuracy: 0.8640\n",
            "Epoch 12/100\n",
            "563/563 [==============================] - 2s 4ms/step - loss: 0.3214 - accuracy: 0.8679 - val_loss: 0.3349 - val_accuracy: 0.8624\n",
            "Epoch 13/100\n",
            "563/563 [==============================] - 2s 4ms/step - loss: 0.3211 - accuracy: 0.8676 - val_loss: 0.3393 - val_accuracy: 0.8635\n",
            "Epoch 14/100\n",
            "563/563 [==============================] - 2s 3ms/step - loss: 0.3215 - accuracy: 0.8676 - val_loss: 0.3350 - val_accuracy: 0.8667\n",
            "Epoch 15/100\n",
            "563/563 [==============================] - 1s 3ms/step - loss: 0.3208 - accuracy: 0.8684 - val_loss: 0.3369 - val_accuracy: 0.8640\n",
            "Epoch 16/100\n",
            "563/563 [==============================] - 1s 3ms/step - loss: 0.3219 - accuracy: 0.8674 - val_loss: 0.3348 - val_accuracy: 0.8661\n",
            "Epoch 17/100\n",
            "563/563 [==============================] - 1s 2ms/step - loss: 0.3206 - accuracy: 0.8656 - val_loss: 0.3372 - val_accuracy: 0.8619\n",
            "Epoch 18/100\n",
            "563/563 [==============================] - 1s 2ms/step - loss: 0.3203 - accuracy: 0.8651 - val_loss: 0.3368 - val_accuracy: 0.8635\n",
            "Epoch 19/100\n",
            "563/563 [==============================] - 1s 3ms/step - loss: 0.3207 - accuracy: 0.8672 - val_loss: 0.3372 - val_accuracy: 0.8672\n",
            "Epoch 20/100\n",
            "563/563 [==============================] - 2s 3ms/step - loss: 0.3206 - accuracy: 0.8676 - val_loss: 0.3381 - val_accuracy: 0.8645\n",
            "Epoch 21/100\n",
            "563/563 [==============================] - 3s 5ms/step - loss: 0.3201 - accuracy: 0.8688 - val_loss: 0.3375 - val_accuracy: 0.8656\n",
            "Epoch 22/100\n",
            "563/563 [==============================] - 1s 3ms/step - loss: 0.3205 - accuracy: 0.8688 - val_loss: 0.3371 - val_accuracy: 0.8635\n",
            "Epoch 23/100\n",
            "563/563 [==============================] - 1s 3ms/step - loss: 0.3204 - accuracy: 0.8686 - val_loss: 0.3382 - val_accuracy: 0.8635\n",
            "Epoch 24/100\n",
            "563/563 [==============================] - 1s 2ms/step - loss: 0.3202 - accuracy: 0.8686 - val_loss: 0.3376 - val_accuracy: 0.8651\n",
            "Epoch 25/100\n",
            "563/563 [==============================] - 1s 2ms/step - loss: 0.3200 - accuracy: 0.8677 - val_loss: 0.3391 - val_accuracy: 0.8635\n",
            "Epoch 26/100\n",
            "563/563 [==============================] - 1s 2ms/step - loss: 0.3197 - accuracy: 0.8686 - val_loss: 0.3382 - val_accuracy: 0.8624\n",
            "Epoch 27/100\n",
            "563/563 [==============================] - 1s 3ms/step - loss: 0.3192 - accuracy: 0.8681 - val_loss: 0.3391 - val_accuracy: 0.8640\n",
            "Epoch 28/100\n",
            "563/563 [==============================] - 1s 2ms/step - loss: 0.3196 - accuracy: 0.8697 - val_loss: 0.3409 - val_accuracy: 0.8635\n",
            "Epoch 29/100\n",
            "563/563 [==============================] - 2s 4ms/step - loss: 0.3192 - accuracy: 0.8695 - val_loss: 0.3403 - val_accuracy: 0.8635\n",
            "Epoch 30/100\n",
            "563/563 [==============================] - 2s 4ms/step - loss: 0.3193 - accuracy: 0.8692 - val_loss: 0.3398 - val_accuracy: 0.8619\n",
            "Epoch 31/100\n",
            "563/563 [==============================] - 1s 2ms/step - loss: 0.3198 - accuracy: 0.8704 - val_loss: 0.3393 - val_accuracy: 0.8619\n",
            "Epoch 32/100\n",
            "563/563 [==============================] - 1s 3ms/step - loss: 0.3198 - accuracy: 0.8670 - val_loss: 0.3404 - val_accuracy: 0.8619\n",
            "Epoch 33/100\n",
            "563/563 [==============================] - 1s 3ms/step - loss: 0.3192 - accuracy: 0.8674 - val_loss: 0.3432 - val_accuracy: 0.8613\n",
            "Epoch 34/100\n",
            "563/563 [==============================] - 2s 3ms/step - loss: 0.3194 - accuracy: 0.8686 - val_loss: 0.3403 - val_accuracy: 0.8603\n",
            "Epoch 35/100\n",
            "563/563 [==============================] - 1s 3ms/step - loss: 0.3188 - accuracy: 0.8677 - val_loss: 0.3402 - val_accuracy: 0.8624\n",
            "Epoch 36/100\n",
            "563/563 [==============================] - 2s 3ms/step - loss: 0.3191 - accuracy: 0.8683 - val_loss: 0.3411 - val_accuracy: 0.8624\n",
            "Epoch 37/100\n",
            "563/563 [==============================] - 2s 3ms/step - loss: 0.3187 - accuracy: 0.8690 - val_loss: 0.3428 - val_accuracy: 0.8597\n",
            "Epoch 38/100\n",
            "563/563 [==============================] - 2s 4ms/step - loss: 0.3187 - accuracy: 0.8693 - val_loss: 0.3427 - val_accuracy: 0.8619\n",
            "Epoch 39/100\n",
            "563/563 [==============================] - 2s 3ms/step - loss: 0.3186 - accuracy: 0.8693 - val_loss: 0.3424 - val_accuracy: 0.8597\n",
            "Epoch 40/100\n",
            "563/563 [==============================] - 1s 2ms/step - loss: 0.3182 - accuracy: 0.8693 - val_loss: 0.3422 - val_accuracy: 0.8619\n",
            "Epoch 41/100\n",
            "563/563 [==============================] - 2s 3ms/step - loss: 0.3194 - accuracy: 0.8684 - val_loss: 0.3425 - val_accuracy: 0.8624\n",
            "Epoch 42/100\n",
            "563/563 [==============================] - 2s 3ms/step - loss: 0.3191 - accuracy: 0.8686 - val_loss: 0.3422 - val_accuracy: 0.8581\n",
            "Epoch 43/100\n",
            "563/563 [==============================] - 1s 3ms/step - loss: 0.3188 - accuracy: 0.8708 - val_loss: 0.3416 - val_accuracy: 0.8603\n",
            "Epoch 44/100\n",
            "563/563 [==============================] - 1s 3ms/step - loss: 0.3182 - accuracy: 0.8695 - val_loss: 0.3418 - val_accuracy: 0.8597\n",
            "Epoch 45/100\n",
            "563/563 [==============================] - 1s 3ms/step - loss: 0.3187 - accuracy: 0.8683 - val_loss: 0.3417 - val_accuracy: 0.8619\n",
            "Epoch 46/100\n",
            "563/563 [==============================] - 2s 4ms/step - loss: 0.3190 - accuracy: 0.8693 - val_loss: 0.3422 - val_accuracy: 0.8619\n",
            "Epoch 47/100\n",
            "563/563 [==============================] - 2s 3ms/step - loss: 0.3186 - accuracy: 0.8702 - val_loss: 0.3427 - val_accuracy: 0.8613\n",
            "Epoch 48/100\n",
            "563/563 [==============================] - 1s 2ms/step - loss: 0.3185 - accuracy: 0.8688 - val_loss: 0.3411 - val_accuracy: 0.8597\n",
            "Epoch 49/100\n",
            "563/563 [==============================] - 1s 3ms/step - loss: 0.3177 - accuracy: 0.8692 - val_loss: 0.3415 - val_accuracy: 0.8613\n",
            "Epoch 50/100\n",
            "563/563 [==============================] - 1s 3ms/step - loss: 0.3188 - accuracy: 0.8697 - val_loss: 0.3421 - val_accuracy: 0.8613\n",
            "Epoch 51/100\n",
            "563/563 [==============================] - 1s 3ms/step - loss: 0.3180 - accuracy: 0.8688 - val_loss: 0.3425 - val_accuracy: 0.8603\n",
            "Epoch 52/100\n",
            "563/563 [==============================] - 1s 3ms/step - loss: 0.3182 - accuracy: 0.8697 - val_loss: 0.3420 - val_accuracy: 0.8597\n",
            "Epoch 53/100\n",
            "563/563 [==============================] - 2s 3ms/step - loss: 0.3181 - accuracy: 0.8683 - val_loss: 0.3432 - val_accuracy: 0.8624\n",
            "Epoch 54/100\n",
            "563/563 [==============================] - 3s 5ms/step - loss: 0.3185 - accuracy: 0.8679 - val_loss: 0.3430 - val_accuracy: 0.8629\n",
            "Epoch 55/100\n",
            "563/563 [==============================] - 3s 5ms/step - loss: 0.3183 - accuracy: 0.8693 - val_loss: 0.3426 - val_accuracy: 0.8613\n",
            "Epoch 56/100\n",
            "563/563 [==============================] - 2s 4ms/step - loss: 0.3183 - accuracy: 0.8699 - val_loss: 0.3429 - val_accuracy: 0.8608\n",
            "Epoch 57/100\n",
            "563/563 [==============================] - 1s 3ms/step - loss: 0.3182 - accuracy: 0.8679 - val_loss: 0.3437 - val_accuracy: 0.8619\n",
            "Epoch 58/100\n",
            "563/563 [==============================] - 2s 3ms/step - loss: 0.3181 - accuracy: 0.8676 - val_loss: 0.3452 - val_accuracy: 0.8619\n",
            "Epoch 59/100\n",
            "563/563 [==============================] - 2s 3ms/step - loss: 0.3184 - accuracy: 0.8674 - val_loss: 0.3433 - val_accuracy: 0.8624\n",
            "Epoch 60/100\n",
            "563/563 [==============================] - 2s 3ms/step - loss: 0.3180 - accuracy: 0.8688 - val_loss: 0.3433 - val_accuracy: 0.8608\n",
            "Epoch 61/100\n",
            "563/563 [==============================] - 2s 3ms/step - loss: 0.3182 - accuracy: 0.8700 - val_loss: 0.3437 - val_accuracy: 0.8603\n",
            "Epoch 62/100\n",
            "563/563 [==============================] - 1s 3ms/step - loss: 0.3184 - accuracy: 0.8688 - val_loss: 0.3431 - val_accuracy: 0.8613\n",
            "Epoch 63/100\n",
            "563/563 [==============================] - 2s 4ms/step - loss: 0.3180 - accuracy: 0.8684 - val_loss: 0.3440 - val_accuracy: 0.8640\n",
            "Epoch 64/100\n",
            "563/563 [==============================] - 2s 4ms/step - loss: 0.3182 - accuracy: 0.8684 - val_loss: 0.3457 - val_accuracy: 0.8624\n",
            "Epoch 65/100\n",
            "563/563 [==============================] - 2s 3ms/step - loss: 0.3183 - accuracy: 0.8708 - val_loss: 0.3438 - val_accuracy: 0.8624\n",
            "Epoch 66/100\n",
            "563/563 [==============================] - 1s 2ms/step - loss: 0.3178 - accuracy: 0.8676 - val_loss: 0.3443 - val_accuracy: 0.8603\n",
            "Epoch 67/100\n",
            "563/563 [==============================] - 1s 3ms/step - loss: 0.3187 - accuracy: 0.8681 - val_loss: 0.3440 - val_accuracy: 0.8619\n",
            "Epoch 68/100\n",
            "563/563 [==============================] - 1s 3ms/step - loss: 0.3178 - accuracy: 0.8690 - val_loss: 0.3447 - val_accuracy: 0.8629\n",
            "Epoch 69/100\n",
            "563/563 [==============================] - 1s 3ms/step - loss: 0.3180 - accuracy: 0.8660 - val_loss: 0.3434 - val_accuracy: 0.8597\n",
            "Epoch 70/100\n",
            "563/563 [==============================] - 1s 3ms/step - loss: 0.3175 - accuracy: 0.8695 - val_loss: 0.3450 - val_accuracy: 0.8629\n",
            "Epoch 71/100\n",
            "563/563 [==============================] - 2s 4ms/step - loss: 0.3184 - accuracy: 0.8686 - val_loss: 0.3450 - val_accuracy: 0.8624\n",
            "Epoch 72/100\n",
            "563/563 [==============================] - 3s 5ms/step - loss: 0.3176 - accuracy: 0.8688 - val_loss: 0.3444 - val_accuracy: 0.8603\n",
            "Epoch 73/100\n",
            "563/563 [==============================] - 2s 4ms/step - loss: 0.3175 - accuracy: 0.8681 - val_loss: 0.3456 - val_accuracy: 0.8592\n",
            "Epoch 74/100\n",
            "563/563 [==============================] - 1s 2ms/step - loss: 0.3178 - accuracy: 0.8690 - val_loss: 0.3428 - val_accuracy: 0.8613\n",
            "Epoch 75/100\n",
            "563/563 [==============================] - 1s 3ms/step - loss: 0.3177 - accuracy: 0.8686 - val_loss: 0.3435 - val_accuracy: 0.8608\n",
            "Epoch 76/100\n",
            "563/563 [==============================] - 2s 3ms/step - loss: 0.3175 - accuracy: 0.8681 - val_loss: 0.3449 - val_accuracy: 0.8592\n",
            "Epoch 77/100\n",
            "563/563 [==============================] - 1s 3ms/step - loss: 0.3176 - accuracy: 0.8693 - val_loss: 0.3435 - val_accuracy: 0.8635\n",
            "Epoch 78/100\n",
            "563/563 [==============================] - 2s 3ms/step - loss: 0.3175 - accuracy: 0.8674 - val_loss: 0.3432 - val_accuracy: 0.8629\n",
            "Epoch 79/100\n",
            "563/563 [==============================] - 1s 2ms/step - loss: 0.3179 - accuracy: 0.8690 - val_loss: 0.3443 - val_accuracy: 0.8635\n",
            "Epoch 80/100\n",
            "563/563 [==============================] - 2s 3ms/step - loss: 0.3168 - accuracy: 0.8686 - val_loss: 0.3467 - val_accuracy: 0.8619\n",
            "Epoch 81/100\n",
            "563/563 [==============================] - 2s 4ms/step - loss: 0.3179 - accuracy: 0.8683 - val_loss: 0.3428 - val_accuracy: 0.8619\n",
            "Epoch 82/100\n",
            "563/563 [==============================] - 2s 3ms/step - loss: 0.3174 - accuracy: 0.8692 - val_loss: 0.3441 - val_accuracy: 0.8619\n",
            "Epoch 83/100\n",
            "563/563 [==============================] - 1s 3ms/step - loss: 0.3162 - accuracy: 0.8706 - val_loss: 0.3449 - val_accuracy: 0.8619\n",
            "Epoch 84/100\n",
            "563/563 [==============================] - 1s 2ms/step - loss: 0.3174 - accuracy: 0.8652 - val_loss: 0.3430 - val_accuracy: 0.8624\n",
            "Epoch 85/100\n",
            "563/563 [==============================] - 1s 2ms/step - loss: 0.3174 - accuracy: 0.8695 - val_loss: 0.3451 - val_accuracy: 0.8629\n",
            "Epoch 86/100\n",
            "563/563 [==============================] - 1s 3ms/step - loss: 0.3178 - accuracy: 0.8699 - val_loss: 0.3442 - val_accuracy: 0.8619\n",
            "Epoch 87/100\n",
            "563/563 [==============================] - 1s 2ms/step - loss: 0.3175 - accuracy: 0.8715 - val_loss: 0.3456 - val_accuracy: 0.8608\n",
            "Epoch 88/100\n",
            "563/563 [==============================] - 1s 3ms/step - loss: 0.3171 - accuracy: 0.8672 - val_loss: 0.3454 - val_accuracy: 0.8651\n",
            "Epoch 89/100\n",
            "563/563 [==============================] - 2s 4ms/step - loss: 0.3172 - accuracy: 0.8695 - val_loss: 0.3447 - val_accuracy: 0.8629\n",
            "Epoch 90/100\n",
            "563/563 [==============================] - 2s 4ms/step - loss: 0.3171 - accuracy: 0.8699 - val_loss: 0.3459 - val_accuracy: 0.8629\n",
            "Epoch 91/100\n",
            "563/563 [==============================] - 1s 2ms/step - loss: 0.3175 - accuracy: 0.8690 - val_loss: 0.3456 - val_accuracy: 0.8635\n",
            "Epoch 92/100\n",
            "563/563 [==============================] - 1s 3ms/step - loss: 0.3171 - accuracy: 0.8692 - val_loss: 0.3447 - val_accuracy: 0.8635\n",
            "Epoch 93/100\n",
            "563/563 [==============================] - 2s 3ms/step - loss: 0.3169 - accuracy: 0.8700 - val_loss: 0.3454 - val_accuracy: 0.8624\n",
            "Epoch 94/100\n",
            "563/563 [==============================] - 2s 3ms/step - loss: 0.3177 - accuracy: 0.8690 - val_loss: 0.3451 - val_accuracy: 0.8619\n",
            "Epoch 95/100\n",
            "563/563 [==============================] - 1s 3ms/step - loss: 0.3164 - accuracy: 0.8699 - val_loss: 0.3497 - val_accuracy: 0.8608\n",
            "Epoch 96/100\n",
            "563/563 [==============================] - 1s 3ms/step - loss: 0.3178 - accuracy: 0.8676 - val_loss: 0.3441 - val_accuracy: 0.8624\n",
            "Epoch 97/100\n",
            "563/563 [==============================] - 2s 4ms/step - loss: 0.3167 - accuracy: 0.8681 - val_loss: 0.3433 - val_accuracy: 0.8635\n",
            "Epoch 98/100\n",
            "563/563 [==============================] - 2s 4ms/step - loss: 0.3172 - accuracy: 0.8683 - val_loss: 0.3451 - val_accuracy: 0.8619\n",
            "Epoch 99/100\n",
            "563/563 [==============================] - 2s 3ms/step - loss: 0.3170 - accuracy: 0.8693 - val_loss: 0.3451 - val_accuracy: 0.8629\n",
            "Epoch 100/100\n",
            "563/563 [==============================] - 2s 3ms/step - loss: 0.3172 - accuracy: 0.8686 - val_loss: 0.3448 - val_accuracy: 0.8635\n"
          ]
        }
      ]
    },
    {
      "cell_type": "code",
      "source": [
        "model.evaluate(X_test,y_test)"
      ],
      "metadata": {
        "colab": {
          "base_uri": "https://localhost:8080/"
        },
        "id": "XsCzHjxdmTUC",
        "outputId": "9d4f4b5b-d7d0-44b7-ed5b-55d797c64690"
      },
      "execution_count": 18,
      "outputs": [
        {
          "output_type": "stream",
          "name": "stdout",
          "text": [
            "79/79 [==============================] - 0s 2ms/step - loss: 0.3523 - accuracy: 0.8544\n"
          ]
        },
        {
          "output_type": "execute_result",
          "data": {
            "text/plain": [
              "[0.35230645537376404, 0.8543999791145325]"
            ]
          },
          "metadata": {},
          "execution_count": 18
        }
      ]
    },
    {
      "cell_type": "code",
      "source": [
        "# predicting the test set result\n",
        "y_pred = model.predict(X_test)\n",
        "y_pred = (y_pred>0.5)\n",
        "y_pred"
      ],
      "metadata": {
        "colab": {
          "base_uri": "https://localhost:8080/"
        },
        "id": "g1nx6xQQmTRZ",
        "outputId": "7c27302d-4b99-461f-f7f7-9065609a5792"
      },
      "execution_count": 19,
      "outputs": [
        {
          "output_type": "stream",
          "name": "stdout",
          "text": [
            "79/79 [==============================] - 0s 2ms/step\n"
          ]
        },
        {
          "output_type": "execute_result",
          "data": {
            "text/plain": [
              "array([[False],\n",
              "       [False],\n",
              "       [ True],\n",
              "       ...,\n",
              "       [False],\n",
              "       [False],\n",
              "       [False]])"
            ]
          },
          "metadata": {},
          "execution_count": 19
        }
      ]
    },
    {
      "cell_type": "code",
      "source": [
        "from sklearn.metrics import accuracy_score\n",
        "test_acc=accuracy_score(y_test,y_pred)\n",
        "print('accuracy on test data = {}'.format(test_acc))"
      ],
      "metadata": {
        "colab": {
          "base_uri": "https://localhost:8080/"
        },
        "id": "wR49-IAHmTPK",
        "outputId": "79aa893a-8e7a-437a-da74-6c39628ca10f"
      },
      "execution_count": 20,
      "outputs": [
        {
          "output_type": "stream",
          "name": "stdout",
          "text": [
            "accuracy on test data = 0.8544\n"
          ]
        }
      ]
    },
    {
      "cell_type": "code",
      "source": [
        "train_pre=model.predict(X_train)\n",
        "train_pre = (train_pre>0.5)\n",
        "train_acc=accuracy_score(y_train,train_pre)\n",
        "print('accuracy on test data = {}'.format(train_acc))"
      ],
      "metadata": {
        "colab": {
          "base_uri": "https://localhost:8080/"
        },
        "id": "0FnDwQxGmZLg",
        "outputId": "f2b6ae3f-2c4e-4193-fdf0-f3536b099424"
      },
      "execution_count": 21,
      "outputs": [
        {
          "output_type": "stream",
          "name": "stdout",
          "text": [
            "235/235 [==============================] - 1s 2ms/step\n",
            "accuracy on test data = 0.8673333333333333\n"
          ]
        }
      ]
    },
    {
      "cell_type": "code",
      "source": [
        "plt.plot(history.history['accuracy'])\n",
        "plt.plot(history.history['val_accuracy'])\n",
        "plt.title('model accuracy')\n",
        "plt.ylabel('accuracy')\n",
        "plt.xlabel('epoch')\n",
        "plt.legend(['train', 'val'], loc='upper left')\n",
        "plt.show()"
      ],
      "metadata": {
        "colab": {
          "base_uri": "https://localhost:8080/",
          "height": 472
        },
        "id": "fn6enlcCmZJh",
        "outputId": "18586466-e925-4bdd-9f24-3753921225f4"
      },
      "execution_count": 22,
      "outputs": [
        {
          "output_type": "display_data",
          "data": {
            "text/plain": [
              "<Figure size 640x480 with 1 Axes>"
            ],
            "image/png": "[encoded data removed]"
          },
          "metadata": {}
        }
      ]
    },
    {
      "cell_type": "code",
      "source": [
        "plt.plot(history.history['loss'])\n",
        "plt.plot(history.history['val_loss'])\n",
        "plt.title('model loss')\n",
        "plt.ylabel('loss')\n",
        "plt.xlabel('epoch')\n",
        "plt.legend(['train', 'val'], loc='upper left')\n",
        "plt.show()"
      ],
      "metadata": {
        "colab": {
          "base_uri": "https://localhost:8080/",
          "height": 472
        },
        "id": "Yu53_GMGmZGp",
        "outputId": "8e0a05e2-a9f8-47da-f41d-150d919ee214"
      },
      "execution_count": 23,
      "outputs": [
        {
          "output_type": "display_data",
          "data": {
            "text/plain": [
              "<Figure size 640x480 with 1 Axes>"
            ],
            "image/png": "[encoded data removed]"
          },
          "metadata": {}
        }
      ]
    },
    {
      "cell_type": "code",
      "source": [
        "pd.DataFrame(history.history).plot(figsize=(8,5))\n",
        "plt.show()"
      ],
      "metadata": {
        "colab": {
          "base_uri": "https://localhost:8080/",
          "height": 445
        },
        "id": "B6wDkmrRmc5B",
        "outputId": "0b02286e-e509-4833-9933-25c1f506edb9"
      },
      "execution_count": 24,
      "outputs": [
        {
          "output_type": "display_data",
          "data": {
            "text/plain": [
              "<Figure size 800x500 with 1 Axes>"
            ],
            "image/png": "[encoded data removed]"
          },
          "metadata": {}
        }
      ]
    },
    {
      "cell_type": "code",
      "source": [
        "# predicting the test set result\n",
        "y_pred = model.predict(X_test)\n",
        "y_pred = (y_pred>0.5)\n",
        "y_pred"
      ],
      "metadata": {
        "colab": {
          "base_uri": "https://localhost:8080/"
        },
        "id": "c4phNLZYmc2i",
        "outputId": "d4f9cc1b-19c1-40e0-83c2-3417cff3645f"
      },
      "execution_count": 25,
      "outputs": [
        {
          "output_type": "stream",
          "name": "stdout",
          "text": [
            "79/79 [==============================] - 0s 2ms/step\n"
          ]
        },
        {
          "output_type": "execute_result",
          "data": {
            "text/plain": [
              "array([[False],\n",
              "       [False],\n",
              "       [ True],\n",
              "       ...,\n",
              "       [False],\n",
              "       [False],\n",
              "       [False]])"
            ]
          },
          "metadata": {},
          "execution_count": 25
        }
      ]
    },
    {
      "cell_type": "code",
      "source": [
        "from sklearn.metrics import confusion_matrix\n",
        "confusion_metric = confusion_matrix(y_test, y_pred)\n",
        "confusion_metric"
      ],
      "metadata": {
        "colab": {
          "base_uri": "https://localhost:8080/"
        },
        "id": "1DFMDq5zmfUx",
        "outputId": "04eb9bc7-e707-42c1-9dcd-27f8a6982426"
      },
      "execution_count": 26,
      "outputs": [
        {
          "output_type": "execute_result",
          "data": {
            "text/plain": [
              "array([[1898,   84],\n",
              "       [ 280,  238]])"
            ]
          },
          "metadata": {},
          "execution_count": 26
        }
      ]
    },
    {
      "cell_type": "code",
      "source": [
        "# Display the confusion matrix\n",
        "from sklearn.metrics import confusion_matrix, ConfusionMatrixDisplay\n",
        "cm_display = ConfusionMatrixDisplay(confusion_matrix=confusion_metric, display_labels=[0, 1])\n",
        "cm_display.plot()\n",
        "\n",
        "# Show the plot\n",
        "plt.show()"
      ],
      "metadata": {
        "colab": {
          "base_uri": "https://localhost:8080/",
          "height": 449
        },
        "id": "SQsZ_3TjmfSZ",
        "outputId": "99c3f7ec-04d0-4a6e-efbe-0844701197da"
      },
      "execution_count": 27,
      "outputs": [
        {
          "output_type": "display_data",
          "data": {
            "text/plain": [
              "<Figure size 640x480 with 2 Axes>"
            ],
            "image/png": "[encoded data removed]"
          },
          "metadata": {}
        }
      ]
    }
  ]
}