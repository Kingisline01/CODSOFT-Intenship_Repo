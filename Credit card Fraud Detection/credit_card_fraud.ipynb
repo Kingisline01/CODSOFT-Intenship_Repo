{
  "nbformat": 4,
  "nbformat_minor": 0,
  "metadata": {
    "colab": {
      "provenance": []
    },
    "kernelspec": {
      "name": "python3",
      "display_name": "Python 3"
    },
    "language_info": {
      "name": "python"
    }
  },
  "cells": [
    {
      "cell_type": "code",
      "execution_count": null,
      "metadata": {
        "id": "KehQIl483xgd"
      },
      "outputs": [],
      "source": [
        "import numpy as np\n",
        "import pandas as pd"
      ]
    },
    {
      "cell_type": "code",
      "source": [
        "df_test =  pd.read_csv('/kaggle/input/fraud-detection/fraudTest.csv')\n",
        "df_train =  pd.read_csv('/kaggle/input/fraud-detection/fraudTrain.csv')"
      ],
      "metadata": {
        "id": "LwS7JWWu4QcX"
      },
      "execution_count": null,
      "outputs": []
    },
    {
      "cell_type": "code",
      "source": [
        "print(len(df_train), len(df_test))"
      ],
      "metadata": {
        "id": "qiOP1ab74QZ3"
      },
      "execution_count": null,
      "outputs": []
    },
    {
      "cell_type": "code",
      "source": [
        "df_complete = pd.concat([df_train, df_test])\n",
        "len(df_complete)"
      ],
      "metadata": {
        "id": "8Awe-P8Y4QVA"
      },
      "execution_count": null,
      "outputs": []
    },
    {
      "cell_type": "code",
      "source": [
        "df_complete.head()"
      ],
      "metadata": {
        "id": "j1QCtgoc4QSu"
      },
      "execution_count": null,
      "outputs": []
    },
    {
      "cell_type": "markdown",
      "source": [
        "Data Understanding and Exploration"
      ],
      "metadata": {
        "id": "sEEPJpXF4dPP"
      }
    },
    {
      "cell_type": "code",
      "source": [
        "import seaborn as sns\n",
        "import matplotlib.pyplot as plt"
      ],
      "metadata": {
        "id": "9_8bQEc64QQf"
      },
      "execution_count": null,
      "outputs": []
    },
    {
      "cell_type": "code",
      "source": [
        "df_complete.groupby('is_fraud').count()['cc_num'].plot.bar()"
      ],
      "metadata": {
        "id": "11AQHjOJ4QNw"
      },
      "execution_count": null,
      "outputs": []
    },
    {
      "cell_type": "code",
      "source": [
        "fraud = df_complete[df_complete['is_fraud'] == 1]\n",
        "non_fraud = df_complete[df_complete['is_fraud'] == 0]\n",
        "\n",
        "print(len(fraud), len(non_fraud))"
      ],
      "metadata": {
        "id": "Plzq0ofU4aUo"
      },
      "execution_count": null,
      "outputs": []
    },
    {
      "cell_type": "code",
      "source": [
        "df_complete.describe()"
      ],
      "metadata": {
        "id": "Wi4WBGJ_4kJ-"
      },
      "execution_count": null,
      "outputs": []
    },
    {
      "cell_type": "code",
      "source": [
        "df_complete.info()"
      ],
      "metadata": {
        "id": "ITmF9TAA4kHP"
      },
      "execution_count": null,
      "outputs": []
    },
    {
      "cell_type": "code",
      "source": [
        "df_complete.nunique()"
      ],
      "metadata": {
        "id": "-HSEhqvD4aSS"
      },
      "execution_count": null,
      "outputs": []
    },
    {
      "cell_type": "code",
      "source": [
        "df_complete.isna().sum().sum()"
      ],
      "metadata": {
        "id": "-w5z2WOy4aPu"
      },
      "execution_count": null,
      "outputs": []
    },
    {
      "cell_type": "code",
      "source": [
        "df_complete.duplicated().sum()"
      ],
      "metadata": {
        "id": "z53BpIGc4sZX"
      },
      "execution_count": null,
      "outputs": []
    },
    {
      "cell_type": "markdown",
      "source": [
        "Data Preparation"
      ],
      "metadata": {
        "id": "l7Vt4kG_4w5y"
      }
    },
    {
      "cell_type": "code",
      "source": [
        "df_balanced = pd.concat([fraud, non_fraud.sample(len(fraud), random_state= 42)])"
      ],
      "metadata": {
        "id": "ezXGFWqv4sMm"
      },
      "execution_count": null,
      "outputs": []
    },
    {
      "cell_type": "code",
      "source": [
        "df_balanced.shape"
      ],
      "metadata": {
        "id": "s0Iy2Xso4yF2"
      },
      "execution_count": null,
      "outputs": []
    },
    {
      "cell_type": "code",
      "source": [
        "df_balanced.groupby('is_fraud').count()['cc_num'].plot.bar()"
      ],
      "metadata": {
        "id": "efCjSgCq41g3"
      },
      "execution_count": null,
      "outputs": []
    },
    {
      "cell_type": "markdown",
      "source": [
        "Dropping columns"
      ],
      "metadata": {
        "id": "huYJhzo245wI"
      }
    },
    {
      "cell_type": "code",
      "source": [
        "df_balanced.info()"
      ],
      "metadata": {
        "id": "U9MdPx9X41aH"
      },
      "execution_count": null,
      "outputs": []
    },
    {
      "cell_type": "code",
      "source": [
        "# First, I'm converting 'trans_date_trans_time' and 'dob' into datetime type\n",
        "df_balanced['trans_date_trans_time'] = pd.to_datetime(df_balanced['trans_date_trans_time'])\n",
        "df_balanced['dob'] = pd.to_datetime(df_balanced['dob'])"
      ],
      "metadata": {
        "id": "7I3QkoOi46fG"
      },
      "execution_count": null,
      "outputs": []
    },
    {
      "cell_type": "code",
      "source": [
        "df_balanced.info()"
      ],
      "metadata": {
        "id": "dXjo11db5AcX"
      },
      "execution_count": null,
      "outputs": []
    },
    {
      "cell_type": "code",
      "source": [
        "# Lets change these columns\n",
        "df_balanced['trans_date_trans_time'] = df_balanced['trans_date_trans_time'].dt.hour"
      ],
      "metadata": {
        "id": "IEVNMEbc5AU2"
      },
      "execution_count": null,
      "outputs": []
    },
    {
      "cell_type": "code",
      "source": [
        "df_balanced = df_balanced.rename(columns = {'trans_date_trans_time': 'hour_transaction'})"
      ],
      "metadata": {
        "id": "FKc8Xn4H5ERu"
      },
      "execution_count": null,
      "outputs": []
    },
    {
      "cell_type": "code",
      "source": [
        "# Function to get time of day\n",
        "def get_tod(hour):\n",
        "    if 4 < hour['hour_transaction'] <= 12:\n",
        "        ans = 'morning'\n",
        "    elif 12 < hour['hour_transaction'] <= 20:\n",
        "        ans = 'afternoon'\n",
        "    elif hour['hour_transaction'] <= 4 or hour['hour_transaction'] > 20:\n",
        "        ans = 'night'\n",
        "    return ans"
      ],
      "metadata": {
        "id": "kNF5TapG5EOv"
      },
      "execution_count": null,
      "outputs": []
    },
    {
      "cell_type": "code",
      "source": [
        "df_balanced['hour_transaction'] = df_balanced.apply(get_tod, axis = 1)"
      ],
      "metadata": {
        "id": "sMs1sa8b5Lmz"
      },
      "execution_count": null,
      "outputs": []
    },
    {
      "cell_type": "code",
      "source": [
        "df_balanced.head()"
      ],
      "metadata": {
        "id": "cQN3fnpw5LgH"
      },
      "execution_count": null,
      "outputs": []
    },
    {
      "cell_type": "code",
      "source": [
        "# Now, about 'dob' (day of birth), we can get the age of the user\n",
        "df_balanced['dob']= df_balanced['dob'].dt.year\n",
        "df_balanced = df_balanced.rename(columns = {'dob': 'age'})"
      ],
      "metadata": {
        "id": "aDiX4yNv5PkA"
      },
      "execution_count": null,
      "outputs": []
    },
    {
      "cell_type": "code",
      "source": [
        "from datetime import datetime\n",
        "df_balanced['age'] = datetime.now().year - df_balanced['age']"
      ],
      "metadata": {
        "id": "Poa5DxwL5PfZ"
      },
      "execution_count": null,
      "outputs": []
    },
    {
      "cell_type": "code",
      "source": [
        "# Analyzing how many frauds occur for each age group\n",
        "df_balanced[df_balanced['is_fraud'] == 1].groupby('age').count()['is_fraud']"
      ],
      "metadata": {
        "id": "RV0DMKS-5Pan"
      },
      "execution_count": null,
      "outputs": []
    },
    {
      "cell_type": "code",
      "source": [
        "df_balanced.info()"
      ],
      "metadata": {
        "id": "H8MmloZa5UyA"
      },
      "execution_count": null,
      "outputs": []
    },
    {
      "cell_type": "code",
      "source": [
        "NUMERICAL_FEATURES = [i for i in df_balanced.columns if df_balanced[i].dtype == 'int64'\\\n",
        "                      or df_balanced[i].dtype =='int32' \\\n",
        "                      or df_balanced[i].dtype =='float64']\n",
        "CATEGORICAL_FEATURES = [i for i in df_balanced.columns if df_balanced[i].dtype == 'object']"
      ],
      "metadata": {
        "id": "pt84M0kn5Uqe"
      },
      "execution_count": null,
      "outputs": []
    },
    {
      "cell_type": "code",
      "source": [
        "NUMERICAL_FEATURES"
      ],
      "metadata": {
        "id": "pyzHrH-f5Y1f"
      },
      "execution_count": null,
      "outputs": []
    },
    {
      "cell_type": "code",
      "source": [
        "CATEGORICAL_FEATURES"
      ],
      "metadata": {
        "id": "-bwZ3KAy5YwH"
      },
      "execution_count": null,
      "outputs": []
    },
    {
      "cell_type": "code",
      "source": [
        "from sklearn.preprocessing import OrdinalEncoder\n",
        "\n",
        "encoder = OrdinalEncoder()\n",
        "encoder.fit(df_balanced[CATEGORICAL_FEATURES])\n",
        "\n",
        "df_balanced[CATEGORICAL_FEATURES] = encoder.transform(df_balanced[CATEGORICAL_FEATURES])\n"
      ],
      "metadata": {
        "id": "bZt7Q_zM5dhh"
      },
      "execution_count": null,
      "outputs": []
    },
    {
      "cell_type": "code",
      "source": [
        "df_balanced.head()"
      ],
      "metadata": {
        "id": "q9NLSu5R5deP"
      },
      "execution_count": null,
      "outputs": []
    },
    {
      "cell_type": "markdown",
      "source": [
        "Correcting datatypes\n"
      ],
      "metadata": {
        "id": "MK0jstdg5kXa"
      }
    },
    {
      "cell_type": "code",
      "source": [
        "df_balanced[['is_fraud', 'age']] = df_balanced[['is_fraud', 'age']].astype('float64')"
      ],
      "metadata": {
        "id": "6hjJcfM_5dYG"
      },
      "execution_count": null,
      "outputs": []
    },
    {
      "cell_type": "markdown",
      "source": [
        "Scaling dataset"
      ],
      "metadata": {
        "id": "0BkiwwGf5rfH"
      }
    },
    {
      "cell_type": "code",
      "source": [
        "sns.boxplot(df_balanced[NUMERICAL_FEATURES])"
      ],
      "metadata": {
        "id": "AUH91RB15mC_"
      },
      "execution_count": null,
      "outputs": []
    },
    {
      "cell_type": "code",
      "source": [
        "sns.boxplot(df_balanced[['amt']])"
      ],
      "metadata": {
        "id": "quxO7Y_E5l9Z"
      },
      "execution_count": null,
      "outputs": []
    },
    {
      "cell_type": "code",
      "source": [
        "# Using min max scaler\n",
        "from sklearn.preprocessing import MinMaxScaler\n",
        "\n",
        "scaler = MinMaxScaler()\n",
        "df_scaled = scaler.fit_transform(df_balanced)\n",
        "df_scaled = pd.DataFrame(df_scaled)"
      ],
      "metadata": {
        "id": "PX7exAqp5w_f"
      },
      "execution_count": null,
      "outputs": []
    },
    {
      "cell_type": "code",
      "source": [
        "last_column = df_scaled.shape[1]-1\n"
      ],
      "metadata": {
        "id": "cUFI549h5xpv"
      },
      "execution_count": null,
      "outputs": []
    },
    {
      "cell_type": "code",
      "source": [
        "print(f\"Not fraud: {df_scaled[df_scaled[last_column] == 0].count()[last_column]}\")\n",
        "print(f\"Fraud: {df_scaled[df_scaled[last_column] == 1].count()[last_column]}\")"
      ],
      "metadata": {
        "id": "Ci1GX4fZ55O7"
      },
      "execution_count": null,
      "outputs": []
    },
    {
      "cell_type": "code",
      "source": [
        "df_scaled.rename(columns={last_column: 'is_fraud'}, inplace=True)\n",
        "df_scaled.head()"
      ],
      "metadata": {
        "id": "N4StRKO255L3"
      },
      "execution_count": null,
      "outputs": []
    },
    {
      "cell_type": "markdown",
      "source": [
        "Modeling"
      ],
      "metadata": {
        "id": "bWnlyR_u6Aj6"
      }
    },
    {
      "cell_type": "code",
      "source": [
        "from sklearn.linear_model import LogisticRegression\n",
        "from sklearn.metrics import classification_report\n",
        "from sklearn.metrics import confusion_matrix, ConfusionMatrixDisplay\n",
        "from sklearn.model_selection import train_test_split"
      ],
      "metadata": {
        "id": "iou56lc35847"
      },
      "execution_count": null,
      "outputs": []
    },
    {
      "cell_type": "code",
      "source": [
        "# X = feature values, all the columns except the last column\n",
        "X = df_scaled.drop(columns = 'is_fraud')\n",
        "\n",
        "# y = target values, last column of the data frame\n",
        "y = df_scaled['is_fraud']"
      ],
      "metadata": {
        "id": "ANCBOBO159RY"
      },
      "execution_count": null,
      "outputs": []
    },
    {
      "cell_type": "code",
      "source": [
        "# Spliting train and test - hold out\n",
        "x_train, x_test, y_train, y_test = train_test_split(X, y, test_size=0.2, random_state=42)"
      ],
      "metadata": {
        "id": "pI2pkNYH59jP"
      },
      "execution_count": null,
      "outputs": []
    },
    {
      "cell_type": "markdown",
      "source": [
        "Logistic Regression model"
      ],
      "metadata": {
        "id": "qtSq-wD_6IO3"
      }
    },
    {
      "cell_type": "code",
      "source": [
        "# Training\n",
        "model = LogisticRegression()\n",
        "model.fit(x_train, y_train)"
      ],
      "metadata": {
        "id": "8xI_BheO598A"
      },
      "execution_count": null,
      "outputs": []
    },
    {
      "cell_type": "code",
      "source": [
        "# Now let's define a function to get the predictions and set the threshold\n",
        "\n",
        "def predict(model, test_set, threshold):\n",
        "    predictions = model.predict(test_set)\n",
        "    pred_threshold = model.predict_proba(test_set)\n",
        "    test_set[\"prediction\"] = predictions\n",
        "    test_set[\"pred_threshold\"] = (pred_threshold >= threshold)[:, 1].astype(float)\n",
        "    return test_set"
      ],
      "metadata": {
        "id": "A1m9d-Zl6JGJ"
      },
      "execution_count": null,
      "outputs": []
    },
    {
      "cell_type": "code",
      "source": [
        "# Use 0.4 as threshold for LR model\n",
        "predict(model, x_test, 0.4)"
      ],
      "metadata": {
        "id": "pvQQWFmI6JDC"
      },
      "execution_count": null,
      "outputs": []
    },
    {
      "cell_type": "code",
      "source": [
        "y_test = pd.DataFrame(y_test)"
      ],
      "metadata": {
        "id": "VrKiDB5i6I-H"
      },
      "execution_count": null,
      "outputs": []
    },
    {
      "cell_type": "code",
      "source": [
        "x_test[\"real\"] = y_test[\"is_fraud\"]"
      ],
      "metadata": {
        "id": "yASYI7Mz6Qow"
      },
      "execution_count": null,
      "outputs": []
    },
    {
      "cell_type": "code",
      "source": [
        "x_test.head(5)"
      ],
      "metadata": {
        "id": "lXoBckp36Q-H"
      },
      "execution_count": null,
      "outputs": []
    },
    {
      "cell_type": "code",
      "source": [
        "# With 0.5 threshold\n",
        "print(classification_report(x_test['real'], x_test['prediction']))"
      ],
      "metadata": {
        "id": "oigA41-H6RN3"
      },
      "execution_count": null,
      "outputs": []
    },
    {
      "cell_type": "code",
      "source": [
        "# With 0.4 threshold\n",
        "print(classification_report(x_test['real'], x_test['pred_threshold']))"
      ],
      "metadata": {
        "id": "6JZ4L2YN6RdX"
      },
      "execution_count": null,
      "outputs": []
    },
    {
      "cell_type": "code",
      "source": [
        "# Let's define now a function to get the confusion matrix\n",
        "def confusion_matrix_plot(test_set, pred_label, model):\n",
        "    cm = confusion_matrix(x_test['real'], x_test[pred_label], labels=model.classes_)\n",
        "    disp = ConfusionMatrixDisplay(confusion_matrix=cm,\n",
        "                              display_labels=model.classes_)\n",
        "    disp.plot()\n",
        "    plt.show()"
      ],
      "metadata": {
        "id": "R3H63sg26YpX"
      },
      "execution_count": null,
      "outputs": []
    },
    {
      "cell_type": "code",
      "source": [
        "confusion_matrix_plot(x_test, 'prediction', model)"
      ],
      "metadata": {
        "id": "4C9a1lyH6ZYf"
      },
      "execution_count": null,
      "outputs": []
    },
    {
      "cell_type": "code",
      "source": [
        "confusion_matrix_plot(x_test, 'pred_threshold', model)"
      ],
      "metadata": {
        "id": "2jgsHOyK6aSQ"
      },
      "execution_count": null,
      "outputs": []
    },
    {
      "cell_type": "markdown",
      "source": [
        "SVM Classifier Model"
      ],
      "metadata": {
        "id": "jlt4Ht5s6fAy"
      }
    },
    {
      "cell_type": "code",
      "source": [
        "from sklearn.svm import SVC"
      ],
      "metadata": {
        "id": "cOARgVEk6aI4"
      },
      "execution_count": null,
      "outputs": []
    },
    {
      "cell_type": "code",
      "source": [
        "model_SVM = SVC(probability = True, random_state=42)"
      ],
      "metadata": {
        "id": "J1HrFqk26Zxn"
      },
      "execution_count": null,
      "outputs": []
    },
    {
      "cell_type": "code",
      "source": [
        "model_SVM.fit(x_train, y_train)"
      ],
      "metadata": {
        "id": "ldcDKDgN6kG3"
      },
      "execution_count": null,
      "outputs": []
    },
    {
      "cell_type": "code",
      "source": [
        "# Dropping our last predictions\n",
        "x_test = x_test.drop(columns = {'prediction','pred_threshold' ,'real'})"
      ],
      "metadata": {
        "id": "udHuzzlw6j5f"
      },
      "execution_count": null,
      "outputs": []
    },
    {
      "cell_type": "code",
      "source": [
        "# Use 0.4 as threshold for LR model\n",
        "predict(model_SVM, x_test, 0.4)"
      ],
      "metadata": {
        "id": "JfQOZMPr6kh4"
      },
      "execution_count": null,
      "outputs": []
    },
    {
      "cell_type": "code",
      "source": [
        "x_test[\"real\"] = y_test[\"is_fraud\"]\n",
        "\n",
        "# With 0.5 threshold\n",
        "print(classification_report(x_test['real'], x_test['prediction']))\n",
        "# With 0.4 threshold\n",
        "print(classification_report(x_test['real'], x_test['pred_threshold']))"
      ],
      "metadata": {
        "id": "RantA1dn6p9H"
      },
      "execution_count": null,
      "outputs": []
    },
    {
      "cell_type": "code",
      "source": [
        "confusion_matrix_plot(x_test, 'pred_threshold', model_SVM)"
      ],
      "metadata": {
        "id": "CnkLhb7Z6pwA"
      },
      "execution_count": null,
      "outputs": []
    },
    {
      "cell_type": "markdown",
      "source": [
        "XGBoost Model"
      ],
      "metadata": {
        "id": "Oi-Rum7j6wpp"
      }
    },
    {
      "cell_type": "code",
      "source": [
        "from xgboost import XGBClassifier"
      ],
      "metadata": {
        "id": "lE4t5ncs6uBo"
      },
      "execution_count": null,
      "outputs": []
    },
    {
      "cell_type": "code",
      "source": [
        "# XGBoost classifier model\n",
        "xgb = XGBClassifier(objective='binary:logistic')"
      ],
      "metadata": {
        "id": "7yrr6SG_6uhp"
      },
      "execution_count": null,
      "outputs": []
    },
    {
      "cell_type": "code",
      "source": [
        "xgb.fit(x_train, y_train)"
      ],
      "metadata": {
        "id": "pF8Mg5u06u4Y"
      },
      "execution_count": null,
      "outputs": []
    },
    {
      "cell_type": "code",
      "source": [
        "# Drop again our last predictions\n",
        "x_test = x_test.drop(columns = {'prediction','pred_threshold' ,'real'})"
      ],
      "metadata": {
        "id": "HEiEsISr614P"
      },
      "execution_count": null,
      "outputs": []
    },
    {
      "cell_type": "code",
      "source": [
        "# Experimenting 0.3 threshold for XGBoost model\n",
        "predict(xgb, x_test, 0.3)"
      ],
      "metadata": {
        "id": "tjJXHpjN61mY"
      },
      "execution_count": null,
      "outputs": []
    },
    {
      "cell_type": "code",
      "source": [
        "x_test[\"real\"] = y_test[\"is_fraud\"]\n",
        "print(classification_report(x_test['real'], x_test['prediction']))\n",
        "print(classification_report(x_test['real'], x_test['pred_threshold']))"
      ],
      "metadata": {
        "id": "x0q-bWLf655v"
      },
      "execution_count": null,
      "outputs": []
    },
    {
      "cell_type": "code",
      "source": [
        "confusion_matrix_plot(x_test, 'prediction', xgb)"
      ],
      "metadata": {
        "id": "pSb99qES65wP"
      },
      "execution_count": null,
      "outputs": []
    }
  ]
}